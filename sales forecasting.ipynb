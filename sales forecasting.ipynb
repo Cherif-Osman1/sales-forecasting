{
 "cells": [
  {
   "cell_type": "markdown",
   "metadata": {},
   "source": [
    "# getting the data"
   ]
  },
  {
   "cell_type": "code",
   "execution_count": null,
   "metadata": {},
   "outputs": [],
   "source": [
    "import pandas as pd\n",
    "import matplotlib.pyplot as plt\n",
    "\n",
    "pathtodata = r\"C:\\Users\\user\\Desktop\\sml\\train.csv\"\n",
    "df = pd.read_csv(pathtodata)\n",
    "\n",
    "# Check for missing values\n",
    "print(df.isnull().sum())\n",
    "\n",
    "# Convert to datetime and sort\n",
    "df['date'] = pd.to_datetime(df['date'])\n",
    "df = df.sort_values('date')\n",
    "\n",
    "# Drop the 'store' column it is not needed\n",
    "df.drop('store', axis=1, inplace=True)\n",
    "\n",
    "# Group by both 'item' and 'date', then sum sales\n",
    "df = df.groupby(['item', 'date'])['sales'].sum().reset_index()\n",
    "\n",
    "# Display first few rows\n",
    "print(df.head())\n"
   ]
  },
  {
   "cell_type": "markdown",
   "metadata": {},
   "source": [
    "plot sales over time"
   ]
  },
  {
   "cell_type": "code",
   "execution_count": null,
   "metadata": {},
   "outputs": [],
   "source": [
    "import matplotlib.pyplot as plt\n",
    "\n",
    "# Plot sales over time\n",
    "plt.figure(figsize=(12, 6))\n",
    "\n",
    "t = df[df['item']==1] #only for item 1\n",
    "\n",
    "print(t.shape)\n",
    "start_date = '2016-01-01'  # Replace with your desired start date\n",
    "end_date = '2016-02-01'    # Replace with your desired end date\n",
    "\n",
    "# Filter test_item for the specific date range\n",
    "tf = t[(t['date'] >= start_date) & (t['date'] < end_date)]\n",
    "\n",
    "s = tf.groupby('date')['sales'].sum()\n",
    "plt.scatter(tf['date'],s)\n",
    "plt.title('Sales Over Time')\n",
    "plt.xlabel('Date')\n",
    "plt.ylabel('Total Sales')\n",
    "plt.show()"
   ]
  },
  {
   "cell_type": "code",
   "execution_count": null,
   "metadata": {},
   "outputs": [],
   "source": [
    "# Group by 'item' and 'date', then sum the sales\n",
    "sales = df.groupby(['item', 'date'])[\"sales\"].sum().unstack() # unstack tuns it into a nice table put level = 0 if you want to inverse the rows and columns\n",
    "sales.head()\n"
   ]
  },
  {
   "cell_type": "markdown",
   "metadata": {},
   "source": [
    "ploat all item sales with respect to date"
   ]
  },
  {
   "cell_type": "code",
   "execution_count": null,
   "metadata": {},
   "outputs": [],
   "source": [
    "\n",
    "plt.figure(figsize=(12, 6))\n",
    "#plot all sales with respect to an item\n",
    "for j in sales.index :\n",
    "    #the columns (dates) are on the x axis, and the sales (values of each row) are on the y axis\n",
    "    plt.plot(sales.columns, sales.loc[j])\n",
    "    plt.show()"
   ]
  },
  {
   "cell_type": "markdown",
   "metadata": {},
   "source": [
    "select he items you would like to plot"
   ]
  },
  {
   "cell_type": "code",
   "execution_count": null,
   "metadata": {},
   "outputs": [],
   "source": [
    "\n",
    "plt.figure(figsize=(12, 6))\n",
    "#plot some sales with respect to an item\n",
    "for j in [1,2,3,4,6] :\n",
    "    #the columns (dates) are on the x axis, and the sales (values of each row) are on the y axis\n",
    "    plt.plot(sales.columns, sales.loc[j]) # loc[j, none] this means all values on thar row\n",
    "    plt.show()\n"
   ]
  },
  {
   "cell_type": "markdown",
   "metadata": {},
   "source": [
    "# add features so the model learns better"
   ]
  },
  {
   "cell_type": "markdown",
   "metadata": {},
   "source": [
    "the lag feature"
   ]
  },
  {
   "cell_type": "code",
   "execution_count": null,
   "metadata": {},
   "outputs": [],
   "source": [
    "# Ensure data is sorted by 'item' and 'date'\n",
    "df = df.sort_values(by=['item', 'date'])\n",
    "\n",
    "# Create a 7-day lag for sales for each item\n",
    "df['lag_7'] = df.groupby('item')['sales'].shift(7)\n",
    "df = df.dropna()\n",
    "df.head()"
   ]
  },
  {
   "cell_type": "markdown",
   "metadata": {},
   "source": [
    "date columns"
   ]
  },
  {
   "cell_type": "code",
   "execution_count": null,
   "metadata": {},
   "outputs": [],
   "source": [
    "df['date'] = pd.to_datetime(df['date'])  # Ensure date is in datetime format\n",
    "\n",
    "df['year'] = df['date'].dt.year\n",
    "df['month'] = df['date'].dt.month\n",
    "df['week'] = df['date'].dt.isocalendar().week\n",
    "df['day'] = df['date'].dt.day\n",
    "df['day_of_week'] = df['date'].dt.dayofweek  # Monday = 0, Sunday = 6\n",
    "#applies custom function\n",
    "df['is_weekend'] = df['day_of_week'].apply(lambda x: 1 if x >= 5 else 0)  # 1 if weekend, else 0\n",
    "\n",
    "print(df.head())  # Check the new features\n"
   ]
  },
  {
   "cell_type": "markdown",
   "metadata": {},
   "source": [
    "rolling mean"
   ]
  },
  {
   "cell_type": "code",
   "execution_count": null,
   "metadata": {},
   "outputs": [],
   "source": [
    "df = df.sort_values(by=['item','date'])\n",
    "\n",
    "df['rolling_mean_7'] = df.groupby('item')['sales'].transform(lambda x: x.rolling(7, min_periods=1).mean())\n",
    "df['rolling_mean_30'] = df.groupby('item')['sales'].transform(lambda x: x.rolling(30, min_periods=1).mean())\n",
    "\n",
    "print(df[['sales', 'rolling_mean_7', 'rolling_mean_30']].head(10))\n",
    "#the rolling mean, imagine a wheel that enter the top of column step by step, each step it will a roll over one and calculates the mean of the rolledover \n",
    "#values, the one values leaves the surface of the wheel it is not accounted for in the calculations\n"
   ]
  },
  {
   "cell_type": "markdown",
   "metadata": {},
   "source": [
    "one hot encoding"
   ]
  },
  {
   "cell_type": "code",
   "execution_count": null,
   "metadata": {},
   "outputs": [],
   "source": [
    "t = df['item']"
   ]
  },
  {
   "cell_type": "code",
   "execution_count": null,
   "metadata": {},
   "outputs": [],
   "source": [
    "\n",
    "df = pd.get_dummies(df, columns=['item'], drop_first=True)  # One-hot encoding\n",
    "df.head()\n"
   ]
  },
  {
   "cell_type": "markdown",
   "metadata": {},
   "source": [
    "reduce outliers effect"
   ]
  },
  {
   "cell_type": "code",
   "execution_count": null,
   "metadata": {},
   "outputs": [],
   "source": [
    "import numpy as np\n",
    "df['sales'] = np.log1p(df['sales'])  # Apply log(1 + x) transformation\n"
   ]
  },
  {
   "cell_type": "markdown",
   "metadata": {},
   "source": [
    "split dataset"
   ]
  },
  {
   "cell_type": "code",
   "execution_count": null,
   "metadata": {},
   "outputs": [],
   "source": [
    "df = df.sort_values('date')\n",
    "df.dropna()\n",
    "train_size = int(len(df) * 0.8)\n",
    "train = df.iloc[:train_size]\n",
    "test = df.iloc[train_size:]\n",
    "\n",
    "# Define feature columns and target variable\n",
    "feature_cols = [col for col in df.columns if col not in ['sales', 'date']]\n",
    "X_train = train[feature_cols]\n",
    "y_train = train['sales']\n",
    "X_test = test[feature_cols]\n",
    "y_test = test['sales']\n",
    "\n"
   ]
  },
  {
   "cell_type": "markdown",
   "metadata": {},
   "source": [
    "# the models"
   ]
  },
  {
   "cell_type": "markdown",
   "metadata": {},
   "source": [
    "linear regression"
   ]
  },
  {
   "cell_type": "code",
   "execution_count": null,
   "metadata": {},
   "outputs": [],
   "source": [
    "from sklearn.linear_model import LinearRegression\n",
    "from sklearn.metrics import mean_squared_error\n",
    "\n",
    "model = LinearRegression()\n",
    "model.fit(X_train, y_train)\n",
    "\n",
    "# Predict on the test set\n",
    "y_pred = model.predict(X_test)\n",
    "\n",
    "mse = mean_squared_error(y_test, y_pred)\n",
    "rmse = mse ** 0.5\n",
    "print(f'Linear Regression RMSE: {rmse}')\n",
    "\n"
   ]
  },
  {
   "cell_type": "markdown",
   "metadata": {},
   "source": [
    "evaluation"
   ]
  },
  {
   "cell_type": "code",
   "execution_count": null,
   "metadata": {},
   "outputs": [],
   "source": [
    "import pandas as pd\n",
    "import matplotlib.pyplot as plt\n",
    "\n",
    "# Check column names to find the correct one-hot encoded item column\n",
    "print(test.columns)\n",
    "\n",
    "# Choose an item from the one-hot encoded columns\n",
    "item_column = 'item_2'  # Replace with the correct column name after checking\n",
    "\n",
    "# Filter the test set for the specific item\n",
    "test_item = test[test[item_column] == 1]\n",
    "\n",
    "# Ensure 'date' is in datetime format\n",
    "test_item = test_item.copy()  # Avoid SettingWithCopyWarning\n",
    "test_item['date'] = pd.to_datetime(test_item['date'])\n",
    "\n",
    "# Get actual and predicted sales for the selected item\n",
    "y_test_item = y_test.loc[test_item.index]\n",
    "y_pred_series = pd.Series(y_pred, index=test.index)  # Ensure proper alignment\n",
    "y_pred_item = y_pred_series.loc[test_item.index]\n",
    "\n",
    "# Plot Actual vs Predicted Sales for the specific item\n",
    "plt.figure(figsize=(12, 6))\n",
    "plt.plot(test_item['date'], y_test_item, label='Actual Sales', color='orange')\n",
    "plt.plot(test_item['date'], y_pred_item, label='Predicted Sales', color='blue', linestyle='--')\n",
    "plt.xlabel(\"Date\")\n",
    "plt.ylabel(\"Sales\")\n",
    "plt.title(f\"Actual vs Predicted Sales for {item_column}\")\n",
    "plt.legend()\n",
    "plt.xticks(rotation=45)\n",
    "plt.show()\n"
   ]
  },
  {
   "cell_type": "code",
   "execution_count": null,
   "metadata": {},
   "outputs": [],
   "source": [
    "test_item.head()"
   ]
  },
  {
   "cell_type": "code",
   "execution_count": null,
   "metadata": {},
   "outputs": [],
   "source": [
    "import pandas as pd\n",
    "import matplotlib.pyplot as plt\n",
    "\n",
    "# Define the time range for filtering\n",
    "start_date = '2017-01-01'  # Replace with your desired start date\n",
    "end_date = '2017-02-01'    # Replace with your desired end date\n",
    "\n",
    "# Filter test_item for the specific date range\n",
    "test_item_filtered = test_item[(test_item['date'] >= start_date) & (test_item['date'] < end_date)]\n",
    "\n",
    "# Filter y_test and y_pred accordingly\n",
    "y_test_filtered = y_test.loc[test_item_filtered.index]\n",
    "y_pred_filtered = y_pred_series.loc[test_item_filtered.index]\n",
    "\n",
    "# Plot Actual vs Predicted Sales for the selected item within the date range\n",
    "plt.figure(figsize=(12, 6))\n",
    "plt.scatter(test_item_filtered['date'], y_test_filtered, label='Actual Sales', color='orange')\n",
    "plt.scatter(test_item_filtered['date'], y_pred_filtered, label='Predicted Sales', color='blue', linestyle='--')\n",
    "plt.xlabel(\"Date\")\n",
    "plt.ylabel(\"Sales\")\n",
    "plt.title(f\"Actual vs Predicted Sales for {item_column} ({start_date} to {end_date})\")\n",
    "plt.legend()\n",
    "plt.xticks(rotation=45)\n",
    "plt.show()\n"
   ]
  },
  {
   "cell_type": "code",
   "execution_count": null,
   "metadata": {},
   "outputs": [],
   "source": [
    "import numpy as np\n",
    "\n",
    "# Apply inverse transformation\n",
    "y_test_filtered = np.expm1(y_test_filtered)\n",
    "y_pred_filtered = np.expm1(y_pred_filtered)\n",
    "\n",
    "# Plot Actual vs Predicted Sales for the selected item within the date range\n",
    "plt.figure(figsize=(12, 6))\n",
    "plt.scatter(test_item_filtered['date'], y_test_filtered, label='Actual Sales', color='orange')\n",
    "plt.scatter(test_item_filtered['date'], y_pred_filtered, label='Predicted Sales', color='blue', linestyle='--')\n",
    "plt.xlabel(\"Date\")\n",
    "plt.ylabel(\"Sales\")\n",
    "plt.title(f\"Actual vs Predicted Sales for {item_column} ({start_date} to {end_date})\")\n",
    "plt.legend()\n",
    "plt.xticks(rotation=45)\n",
    "plt.show()\n"
   ]
  },
  {
   "cell_type": "code",
   "execution_count": null,
   "metadata": {},
   "outputs": [],
   "source": [
    "import xgboost as xgb\n",
    "from sklearn.metrics import mean_squared_error\n",
    "import numpy as np\n"
   ]
  },
  {
   "cell_type": "code",
   "execution_count": null,
   "metadata": {},
   "outputs": [],
   "source": [
    "# Initialize the model.\n",
    "# 'reg:squarederror' is used as the objective for regression.\n",
    "xgb_model = xgb.XGBRegressor(\n",
    "    objective='reg:squarederror',\n",
    "    n_estimators=100,      # Number of trees\n",
    "    learning_rate=0.1,     # Step size shrinkage to prevent overfitting\n",
    "    max_depth=6,           # Maximum depth of each tree\n",
    "    random_state=42        # For reproducibility\n",
    ")\n",
    "\n",
    "# Train the model on the training data.\n",
    "xgb_model.fit(X_train, y_train)\n"
   ]
  },
  {
   "cell_type": "code",
   "execution_count": null,
   "metadata": {},
   "outputs": [],
   "source": [
    "y_pred_xgb = xgb_model.predict(X_test)\n"
   ]
  },
  {
   "cell_type": "code",
   "execution_count": null,
   "metadata": {},
   "outputs": [],
   "source": [
    "mse_xgb = mean_squared_error(y_test, y_pred_xgb)\n",
    "rmse_xgb = np.sqrt(mse_xgb)\n",
    "print(f'XGBoost RMSE: {rmse_xgb}')\n"
   ]
  },
  {
   "cell_type": "code",
   "execution_count": null,
   "metadata": {},
   "outputs": [],
   "source": [
    "import pandas as pd\n",
    "import matplotlib.pyplot as plt\n",
    "import numpy as np\n",
    "\n",
    "# Assume y_pred_xgb and X_test are already defined from XGBoost predictions\n",
    "y_pred_xgb_series = pd.Series(y_pred_xgb, index=X_test.index)\n",
    "\n",
    "# Define the time range for visualization (adjust start_date and end_date as needed)\n",
    "start_date = '2017-01-01'\n",
    "end_date = '2017-03-01'\n",
    "\n",
    "# Choose an item from the one-hot encoded columns\n",
    "item_column = 'item_3'  # Replace with the correct column name after checking\n",
    "\n",
    "# Filter the test set for the specific item AND the date range:\n",
    "test_item = test[(test[item_column] == 1) & \n",
    "                 (test['date'] >= start_date) & \n",
    "                 (test['date'] < end_date)]\n",
    "\n",
    "# Get actual and predicted sales for the selected item\n",
    "y_test_item = y_test.loc[test_item.index]\n",
    "y_pred_item = y_pred_xgb_series.loc[test_item.index]\n",
    "\n",
    "# Apply the inverse transformation (once) to convert back to original scale\n",
    "y_test_item = np.expm1(y_test_item)\n",
    "y_pred_item = np.expm1(y_pred_item)\n",
    "\n",
    "# Plot Actual vs. Predicted Sales for the specific item within the date range\n",
    "plt.figure(figsize=(12, 6))\n",
    "plt.plot(test_item['date'], y_test_item, label='Actual Sales', color='orange')\n",
    "plt.plot(test_item['date'], y_pred_item, label='Predicted Sales', color='blue', linestyle='--')\n",
    "plt.xlabel(\"Date\")\n",
    "plt.ylabel(\"Sales\")\n",
    "plt.title(f\"XGBoost: Actual vs. Predicted Sales for {item_column} ({start_date} to {end_date})\")\n",
    "plt.legend()\n",
    "plt.xticks(rotation=45)\n",
    "plt.show()\n"
   ]
  }
 ],
 "metadata": {
  "kernelspec": {
   "display_name": "Python 3",
   "language": "python",
   "name": "python3"
  },
  "language_info": {
   "codemirror_mode": {
    "name": "ipython",
    "version": 3
   },
   "file_extension": ".py",
   "mimetype": "text/x-python",
   "name": "python",
   "nbconvert_exporter": "python",
   "pygments_lexer": "ipython3",
   "version": "3.11.6"
  }
 },
 "nbformat": 4,
 "nbformat_minor": 2
}
